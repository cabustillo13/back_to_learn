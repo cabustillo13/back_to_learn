{
 "cells": [
  {
   "cell_type": "markdown",
   "metadata": {},
   "source": [
    "# ¡Quiero esto, pero no sé cómo se llama!\n",
    "### Por: Carlos Bustillo y Sandra Seminario\n",
    "\n",
    "Es un taller para identificar artículos de ferretería para poder saber el nombre del\n",
    "artículo y saber dónde comprarlo, todo esto usando Inteligencia Artificial."
   ]
  },
  {
   "cell_type": "markdown",
   "metadata": {
    "pycharm": {
     "name": "#%% md\n"
    }
   },
   "source": [
    "## 1) Importar las librerías necesarias"
   ]
  },
  {
   "cell_type": "code",
   "execution_count": 153,
   "metadata": {
    "pycharm": {
     "name": "#%%\n"
    }
   },
   "outputs": [],
   "source": [
    "import requests\n",
    "import json\n",
    "import os"
   ]
  },
  {
   "cell_type": "markdown",
   "metadata": {
    "pycharm": {
     "name": "#%% md\n"
    }
   },
   "source": [
    "## 2) Cargar y configurar tus credenciales"
   ]
  },
  {
   "cell_type": "code",
   "execution_count": 154,
   "metadata": {
    "pycharm": {
     "name": "#%%\n"
    }
   },
   "outputs": [],
   "source": [
    "url = 'https://api.bing.microsoft.com/v7.0/images/visualsearch'\n",
    "set_header = {'Ocp-Apim-Subscription-Key': 'db96b8de13d74820a2163979078d852b'}"
   ]
  },
  {
   "cell_type": "markdown",
   "metadata": {},
   "source": [
    "## 3) Cargar una imagen"
   ]
  },
  {
   "cell_type": "code",
   "execution_count": 155,
   "metadata": {
    "pycharm": {
     "name": "#%%\n"
    }
   },
   "outputs": [],
   "source": [
    "# Si proviene de un URL de internet\n",
    "#set_form = {'knowledgeRequest': '{\\\"imageInfo\\\":{\\\"url\\\":\\\"https://bit.ly/3C9CyqD\\\"}}'}"
   ]
  },
  {
   "cell_type": "code",
   "execution_count": 156,
   "metadata": {
    "pycharm": {
     "name": "#%%\n"
    }
   },
   "outputs": [],
   "source": [
    "# Si proviene una imagen local (Hay que colocar doble slash)\n",
    "image_path = \"C:\\\\Users\\\\cabus\\\\Documents\\\\Mis proyectos\\\\back_to_learn\\\\recursos\\\\prueba2.jpg\"\n",
    "set_form = {'image': ('imageInfo', open(image_path, 'rb'))}"
   ]
  },
  {
   "cell_type": "markdown",
   "metadata": {},
   "source": [
    "## 4) Definir atributos del JSON"
   ]
  },
  {
   "cell_type": "code",
   "execution_count": 157,
   "metadata": {
    "pycharm": {
     "name": "#%%\n"
    }
   },
   "outputs": [],
   "source": [
    "set_features1 = {\n",
    "    'knowledgeRequest': {\n",
    "        'filters': {\n",
    "            'site': 'https://www.suri-sa.com.ar/'\n",
    "        }\n",
    "    }\n",
    "}\n",
    "\n",
    "set_features2 = {\n",
    "    'knowledgeRequest': {\n",
    "        'invokedSkills': ['SimilarImages'],\n",
    "        'offset': 0,\n",
    "        'count': 3,\n",
    "        'filters': {\n",
    "            'site': \"https://www.ebay.com/\"\n",
    "        }\n",
    "    }\n",
    "}\n",
    "\n",
    "set_features3 = {\n",
    "    'knowledgeRequest': {\n",
    "        'invokedSkills': ['SimilarProducts'],\n",
    "        'count': 5,\n",
    "        'filters': {\n",
    "            'site': \"https://ebay.com/\"\n",
    "        }\n",
    "    }\n",
    "}"
   ]
  },
  {
   "cell_type": "markdown",
   "metadata": {},
   "source": [
    "## 5) ¡Listos para el POST!"
   ]
  },
  {
   "cell_type": "code",
   "execution_count": 158,
   "metadata": {
    "pycharm": {
     "name": "#%%\n"
    }
   },
   "outputs": [],
   "source": [
    "my_files = {\n",
    "    'knowledgeRequest': (None, json.dumps(set_features3), 'application/json'),\n",
    "    'image': (os.path.basename(image_path), open(image_path, 'rb'), 'application/octet-stream')\n",
    "}"
   ]
  },
  {
   "cell_type": "markdown",
   "metadata": {},
   "source": [
    "## 6) Visualización como un JSON"
   ]
  },
  {
   "cell_type": "code",
   "execution_count": 159,
   "metadata": {
    "pycharm": {
     "name": "#%%\n"
    }
   },
   "outputs": [],
   "source": [
    "def print_json(obj):\n",
    "    \"\"\"Print the object como un JSON\"\"\"\n",
    "    print(json.dumps(obj, sort_keys=True, indent=2, separators=(',', ': ')))"
   ]
  },
  {
   "cell_type": "markdown",
   "metadata": {},
   "source": [
    "## 7) Ver resultados"
   ]
  },
  {
   "cell_type": "code",
   "execution_count": 160,
   "metadata": {
    "pycharm": {
     "name": "#%%\n"
    }
   },
   "outputs": [
    {
     "name": "stdout",
     "output_type": "stream",
     "text": [
      "{\n",
      "  \"_type\": \"ImageKnowledge\",\n",
      "  \"debugInfo\": {},\n",
      "  \"image\": {\n",
      "    \"imageInsightsToken\": \"bcid_TlfK8wZRojsDbg*ccid_V8rzBlGi\"\n",
      "  },\n",
      "  \"instrumentation\": {\n",
      "    \"_type\": \"ResponseInstrumentation\",\n",
      "    \"pageLoadPingUrl\": \"https://www.bingapis.com/api/ping/pageload?IG=5A5EE167E5CB44F6A036233BB4CCBADC&CID=27E3E3A4AC2764652635F311AD97651E&Type=Event.CPT&DATA=0\",\n",
      "    \"pingUrlBase\": \"https://www.bingapis.com/api/ping?IG=5A5EE167E5CB44F6A036233BB4CCBADC&CID=27E3E3A4AC2764652635F311AD97651E&ID=\"\n",
      "  },\n",
      "  \"tags\": [\n",
      "    {\n",
      "      \"actions\": [\n",
      "        {\n",
      "          \"_type\": \"ImageModuleAction\",\n",
      "          \"actionType\": \"ProductVisualSearch\",\n",
      "          \"data\": {\n",
      "            \"currentOffset\": 0,\n",
      "            \"nextOffset\": 5,\n",
      "            \"totalEstimatedMatches\": 100,\n",
      "            \"value\": [\n",
      "              {\n",
      "                \"accentColor\": \"39322E\",\n",
      "                \"contentSize\": \"13881 B\",\n",
      "                \"contentUrl\": \"https://d3inagkmqs1m6q.cloudfront.net/2622/media-pics/sd1648-nib-yamaha-clamp-hose-ss-4-54-31765-01100-18-7316-outboard.jpg\",\n",
      "                \"contentUrlPingSuffix\": \"DevEx,5057.1\",\n",
      "                \"datePublished\": \"2021-02-19T02:57:00.0000000Z\",\n",
      "                \"encodingFormat\": \"jpeg\",\n",
      "                \"height\": 500,\n",
      "                \"hostPageDiscoveredDate\": \"2020-12-27T00:00:00.0000000Z\",\n",
      "                \"hostPageDisplayUrl\": \"https://www.ebay.com/itm/NIB-Yamaha-Clamp-Hose-SS-4-54-31765-01100-18-7316-Outboard...\",\n",
      "                \"hostPageDomainFriendlyName\": \"eBay\",\n",
      "                \"hostPageFavIconUrl\": \"https://www.bing.com/th?id=ODF.EsjikqRsBSlmPNljQZ5GRQ&pid=Api\",\n",
      "                \"hostPageUrl\": \"https://www.ebay.com/itm/NIB-Yamaha-Clamp-Hose-SS-4-54-31765-01100-18-7316-Outboard-/124486847517\",\n",
      "                \"hostPageUrlPingSuffix\": \"DevEx,5056.1\",\n",
      "                \"imageId\": \"BC77C0130A6AF0DDFD38FB3868A7D42D44D43283\",\n",
      "                \"imageInsightsToken\": \"ccid_wtaWnsYc*cp_1057822BAA8A4F25AB919FAA24AF6E81*mid_BC77C0130A6AF0DDFD38FB3868A7D42D44D43283*simid_608027117094657845*thid_OIP.wtaWnsYcwLoYZG4l1WBorAHaHa\",\n",
      "                \"insightsMetadata\": {\n",
      "                  \"availableSizesCount\": 2,\n",
      "                  \"pagesIncludingCount\": 6\n",
      "                },\n",
      "                \"isFamilyFriendly\": true,\n",
      "                \"name\": \"NIB Yamaha Clamp Hose SS 4\\\" 54-31765, 01100, 18-7316 ...\",\n",
      "                \"thumbnail\": {\n",
      "                  \"height\": 474,\n",
      "                  \"width\": 474\n",
      "                },\n",
      "                \"thumbnailUrl\": \"https://tse3.mm.bing.net/th?id=OIP.wtaWnsYcwLoYZG4l1WBorAHaHa&pid=Api\",\n",
      "                \"webSearchUrl\": \"https://www.bing.com/images/search?view=detailv2&FORM=OIIRPO&id=BC77C0130A6AF0DDFD38FB3868A7D42D44D43283&simid=608027117094657845\",\n",
      "                \"webSearchUrlPingSuffix\": \"DevEx,5055.1\",\n",
      "                \"width\": 500\n",
      "              },\n",
      "              {\n",
      "                \"accentColor\": \"5E6D5E\",\n",
      "                \"contentSize\": \"11388 B\",\n",
      "                \"contentUrl\": \"https://i.ebayimg.com/images/g/JioAAOSw~O5gKUaw/s-l640.jpg\",\n",
      "                \"contentUrlPingSuffix\": \"DevEx,5063.1\",\n",
      "                \"datePublished\": \"2021-05-10T20:56:00.0000000Z\",\n",
      "                \"encodingFormat\": \"jpeg\",\n",
      "                \"height\": 500,\n",
      "                \"hostPageDiscoveredDate\": \"2021-04-19T00:00:00.0000000Z\",\n",
      "                \"hostPageDisplayUrl\": \"https://www.ebay.com/p/1611883490?iid=201077434773\",\n",
      "                \"hostPageUrl\": \"https://www.ebay.com/p/1611883490?iid=201077434773\",\n",
      "                \"hostPageUrlPingSuffix\": \"DevEx,5062.1\",\n",
      "                \"imageId\": \"C71AE9553CF72AED209C5F94C65B4A18BCFB4ED2\",\n",
      "                \"imageInsightsToken\": \"ccid_c26Wj+z4*cp_82E30F5565FFB854EBCC99917F2F933B*mid_C71AE9553CF72AED209C5F94C65B4A18BCFB4ED2*simid_608054360070555395*thid_OIP.c26Wj-z4cjj9UTrsXdMw8AHaHa\",\n",
      "                \"insightsMetadata\": {\n",
      "                  \"availableSizesCount\": 3,\n",
      "                  \"pagesIncludingCount\": 3,\n",
      "                  \"recipeSourcesCount\": 0,\n",
      "                  \"shoppingSourcesCount\": 0\n",
      "                },\n",
      "                \"isFamilyFriendly\": true,\n",
      "                \"name\": \"Valterra H03-0058 Galvanized Drain Hose Clamps for sale ...\",\n",
      "                \"thumbnail\": {\n",
      "                  \"height\": 474,\n",
      "                  \"width\": 474\n",
      "                },\n",
      "                \"thumbnailUrl\": \"https://tse1.mm.bing.net/th?id=OIP.c26Wj-z4cjj9UTrsXdMw8AHaHa&pid=Api\",\n",
      "                \"webSearchUrl\": \"https://www.bing.com/images/search?view=detailv2&FORM=OIIRPO&id=C71AE9553CF72AED209C5F94C65B4A18BCFB4ED2&simid=608054360070555395\",\n",
      "                \"webSearchUrlPingSuffix\": \"DevEx,5061.1\",\n",
      "                \"width\": 500\n",
      "              },\n",
      "              {\n",
      "                \"accentColor\": \"575344\",\n",
      "                \"contentSize\": \"7039 B\",\n",
      "                \"contentUrl\": \"https://i.ebayimg.com/images/g/lUEAAOSwRIJfqta5/s-l300.jpg\",\n",
      "                \"contentUrlPingSuffix\": \"DevEx,5069.1\",\n",
      "                \"datePublished\": \"2020-11-30T23:39:00.0000000Z\",\n",
      "                \"encodingFormat\": \"jpeg\",\n",
      "                \"height\": 300,\n",
      "                \"hostPageDiscoveredDate\": \"2020-11-24T00:00:00.0000000Z\",\n",
      "                \"hostPageDisplayUrl\": \"https://www.ebay.com/itm/NOS-OEM-Yamaha-YFZ350-YFS200-Carb-Clamp-Carburetor-Intake...\",\n",
      "                \"hostPageDomainFriendlyName\": \"eBay\",\n",
      "                \"hostPageFavIconUrl\": \"https://www.bing.com/th?id=ODF.EsjikqRsBSlmPNljQZ5GRQ&pid=Api\",\n",
      "                \"hostPageUrl\": \"https://www.ebay.com/itm/NOS-OEM-Yamaha-YFZ350-YFS200-Carb-Clamp-Carburetor-Intake-Manifold-Boot-Clamp-/284075659647\",\n",
      "                \"hostPageUrlPingSuffix\": \"DevEx,5068.1\",\n",
      "                \"imageId\": \"FB4B3713BEB5C4F579DFB368E86497E1A93E89B3\",\n",
      "                \"imageInsightsToken\": \"ccid_AW6pTSSm*cp_D93606F785A2AC1C7840BCB4C2A7497C*mid_FB4B3713BEB5C4F579DFB368E86497E1A93E89B3*simid_608024900894067056*thid_OIP.AW6pTSSmOqK2VZPZC-rNagAAAA\",\n",
      "                \"insightsMetadata\": {\n",
      "                  \"availableSizesCount\": 1,\n",
      "                  \"pagesIncludingCount\": 4\n",
      "                },\n",
      "                \"isFamilyFriendly\": true,\n",
      "                \"name\": \"NOS OEM Yamaha YFZ350 YFS200 Carb Clamp Carburetor Intake ...\",\n",
      "                \"thumbnail\": {\n",
      "                  \"height\": 300,\n",
      "                  \"width\": 300\n",
      "                },\n",
      "                \"thumbnailUrl\": \"https://tse1.mm.bing.net/th?id=OIP.AW6pTSSmOqK2VZPZC-rNagAAAA&pid=Api\",\n",
      "                \"webSearchUrl\": \"https://www.bing.com/images/search?view=detailv2&FORM=OIIRPO&id=FB4B3713BEB5C4F579DFB368E86497E1A93E89B3&simid=608024900894067056\",\n",
      "                \"webSearchUrlPingSuffix\": \"DevEx,5067.1\",\n",
      "                \"width\": 300\n",
      "              },\n",
      "              {\n",
      "                \"accentColor\": \"888844\",\n",
      "                \"contentSize\": \"22924 B\",\n",
      "                \"contentUrl\": \"https://i.ebayimg.com/images/g/uTwAAOSw51xe6Z4c/s-l640.jpg\",\n",
      "                \"contentUrlPingSuffix\": \"DevEx,5075.1\",\n",
      "                \"datePublished\": \"2020-07-21T19:13:00.0000000Z\",\n",
      "                \"encodingFormat\": \"jpeg\",\n",
      "                \"height\": 640,\n",
      "                \"hostPageDiscoveredDate\": \"2020-06-20T00:00:00.0000000Z\",\n",
      "                \"hostPageDisplayUrl\": \"https://www.ebay.com/i/274399638963?chn=ps\",\n",
      "                \"hostPageDomainFriendlyName\": \"eBay\",\n",
      "                \"hostPageFavIconUrl\": \"https://www.bing.com/th?id=ODF.EsjikqRsBSlmPNljQZ5GRQ&pid=Api\",\n",
      "                \"hostPageUrl\": \"https://www.ebay.com/i/274399638963?chn=ps\",\n",
      "                \"hostPageUrlPingSuffix\": \"DevEx,5074.1\",\n",
      "                \"imageId\": \"C3B4D5F44C419BC3AE50B883690CD63EF6AA805B\",\n",
      "                \"imageInsightsToken\": \"ccid_wfFwNeBb*cp_6848F435844A99AF231E357E440AACE0*mid_C3B4D5F44C419BC3AE50B883690CD63EF6AA805B*simid_607990923422037891*thid_OIP.wfFwNeBb07SjmIeFrB0E0gHaHa\",\n",
      "                \"insightsMetadata\": {\n",
      "                  \"availableSizesCount\": 2,\n",
      "                  \"pagesIncludingCount\": 4,\n",
      "                  \"recipeSourcesCount\": 0,\n",
      "                  \"shoppingSourcesCount\": 0\n",
      "                },\n",
      "                \"isFamilyFriendly\": true,\n",
      "                \"name\": \"Cub Cadet 723-0295 MTD Hose Clamp Troy-Bilt 204 CSV050 ...\",\n",
      "                \"thumbnail\": {\n",
      "                  \"height\": 474,\n",
      "                  \"width\": 474\n",
      "                },\n",
      "                \"thumbnailUrl\": \"https://tse1.mm.bing.net/th?id=OIP.wfFwNeBb07SjmIeFrB0E0gHaHa&pid=Api\",\n",
      "                \"webSearchUrl\": \"https://www.bing.com/images/search?view=detailv2&FORM=OIIRPO&id=C3B4D5F44C419BC3AE50B883690CD63EF6AA805B&simid=607990923422037891\",\n",
      "                \"webSearchUrlPingSuffix\": \"DevEx,5073.1\",\n",
      "                \"width\": 640\n",
      "              },\n",
      "              {\n",
      "                \"accentColor\": \"26251E\",\n",
      "                \"contentSize\": \"5856 B\",\n",
      "                \"contentUrl\": \"https://i.ebayimg.com/images/g/8J8AAOSw0uZe4zkS/s-l300.jpg\",\n",
      "                \"contentUrlPingSuffix\": \"DevEx,5081.1\",\n",
      "                \"datePublished\": \"2020-09-16T20:00:00.0000000Z\",\n",
      "                \"encodingFormat\": \"jpeg\",\n",
      "                \"height\": 300,\n",
      "                \"hostPageDiscoveredDate\": \"2020-09-16T20:00:00.0000000Z\",\n",
      "                \"hostPageDisplayUrl\": \"https://www.ebay.com/itm/H030058-2-5-X-3-5-In-Hose-Clamp-Silver-/233617097720\",\n",
      "                \"hostPageDomainFriendlyName\": \"eBay\",\n",
      "                \"hostPageFavIconUrl\": \"https://www.bing.com/th?id=ODF.EsjikqRsBSlmPNljQZ5GRQ&pid=Api\",\n",
      "                \"hostPageUrl\": \"https://www.ebay.com/itm/H030058-2-5-X-3-5-In-Hose-Clamp-Silver-/233617097720\",\n",
      "                \"hostPageUrlPingSuffix\": \"DevEx,5080.1\",\n",
      "                \"imageId\": \"E05D0DDA13F7734A4559F2332007028C6AA4EEBE\",\n",
      "                \"imageInsightsToken\": \"ccid_lQKRHHwq*cp_7F5ED7560CA1E9A929B93B3ED41F53F2*mid_E05D0DDA13F7734A4559F2332007028C6AA4EEBE*simid_608045216088208695*thid_OIP.lQKRHHwqgQzttNrIWSbjyQAAAA\",\n",
      "                \"insightsMetadata\": {\n",
      "                  \"availableSizesCount\": 1,\n",
      "                  \"pagesIncludingCount\": 2\n",
      "                },\n",
      "                \"isFamilyFriendly\": true,\n",
      "                \"name\": \"Hose Clip Clamps Lock Seal Fitting Pipe Drain Stainless ...\",\n",
      "                \"thumbnail\": {\n",
      "                  \"height\": 300,\n",
      "                  \"width\": 300\n",
      "                },\n",
      "                \"thumbnailUrl\": \"https://tse4.mm.bing.net/th?id=OIP.lQKRHHwqgQzttNrIWSbjyQAAAA&pid=Api\",\n",
      "                \"webSearchUrl\": \"https://www.bing.com/images/search?view=detailv2&FORM=OIIRPO&id=E05D0DDA13F7734A4559F2332007028C6AA4EEBE&simid=608045216088208695\",\n",
      "                \"webSearchUrlPingSuffix\": \"DevEx,5079.1\",\n",
      "                \"width\": 300\n",
      "              }\n",
      "            ]\n",
      "          }\n",
      "        }\n",
      "      ],\n",
      "      \"displayName\": \"\"\n",
      "    }\n",
      "  ]\n",
      "}\n"
     ]
    }
   ],
   "source": [
    "try:\n",
    "    response = requests.post(url, files=my_files, headers=set_header)\n",
    "    response.raise_for_status()\n",
    "    print_json(response.json())\n",
    "\n",
    "except Exception as ex:\n",
    "    raise ex"
   ]
  }
 ],
 "metadata": {
  "kernelspec": {
   "display_name": "Python 3 (ipykernel)",
   "language": "python",
   "name": "python3"
  },
  "language_info": {
   "codemirror_mode": {
    "name": "ipython",
    "version": 3
   },
   "file_extension": ".py",
   "mimetype": "text/x-python",
   "name": "python",
   "nbconvert_exporter": "python",
   "pygments_lexer": "ipython3",
   "version": "3.8.8"
  }
 },
 "nbformat": 4,
 "nbformat_minor": 1
}